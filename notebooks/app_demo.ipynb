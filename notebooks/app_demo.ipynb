{
 "cells": [
  {
   "cell_type": "code",
   "execution_count": 1,
   "id": "3b11894d-70d7-4954-8ba7-b308e21e2115",
   "metadata": {},
   "outputs": [
    {
     "name": "stdout",
     "output_type": "stream",
     "text": [
      "['ipyvolume:lasso', 'ipyvolume:circle', 'ipyvolume:rectangle']\n"
     ]
    },
    {
     "data": {
      "application/vnd.jupyter.widget-view+json": {
       "model_id": "ca6a5653235446d3ad7ce2049409b339",
       "version_major": 2,
       "version_minor": 0
      },
      "text/plain": [
       "TempoApp(extra_widgets={'powerplant': SubsetControlWidget(size_options=['Small', 'Medium', 'Large'], size_sele…"
      ]
     },
     "execution_count": 1,
     "metadata": {},
     "output_type": "execute_result"
    }
   ],
   "source": [
    "from tempods.app import TempoApp\n",
    "\n",
    "app = TempoApp()\n",
    "app"
   ]
  },
  {
   "cell_type": "code",
   "execution_count": null,
   "id": "2f96b4d7-6de2-4007-a59a-76c77577ce3b",
   "metadata": {},
   "outputs": [],
   "source": []
  }
 ],
 "metadata": {
  "kernelspec": {
   "display_name": "tempods",
   "language": "python",
   "name": "tempods"
  },
  "language_info": {
   "codemirror_mode": {
    "name": "ipython",
    "version": 3
   },
   "file_extension": ".py",
   "mimetype": "text/x-python",
   "name": "python",
   "nbconvert_exporter": "python",
   "pygments_lexer": "ipython3",
   "version": "3.11.10"
  }
 },
 "nbformat": 4,
 "nbformat_minor": 5
}
