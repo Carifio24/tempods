{
 "cells": [
  {
   "cell_type": "markdown",
   "id": "e84fcba5-2c97-4528-81e9-1204375f1616",
   "metadata": {
    "extensions": {
     "jupyter_dashboards": {
      "activeView": "grid_default",
      "views": {
       "grid_default": {
        "col": null,
        "height": 2,
        "hidden": true,
        "locked": true,
        "row": null,
        "width": 2
       }
      }
     }
    }
   },
   "source": [
    "## Installation Instructions\n",
    "\n",
    "This is complicated because a custom version of ipyleaflet cannot be pip installed. \n",
    "The steps to install ipyleaflet requires yarn (which you can install with `conda install -c conda-forge yarn`)\n",
    "\n",
    "```\n",
    "pip install glue-jupyter\n",
    "pip install jupyterlab\n",
    "\n",
    "git clone https://github.com/jfoster17/ipyleaflet\n",
    "cd ipyleaflet/python\n",
    "git checkout -b no-raster-inheritance\n",
    "cd jupyter_leaflet; pip install .; cd ..\n",
    "cd ipyleaflet; pip install .; cd ..\n",
    "jupyter labextension develop --overwrite jupyter_leaflet\n",
    "\n",
    "pip install git+https://github.com/jfoster17/glue-map.git@tempo-cosmic-ds\n",
    "```"
   ]
  },
  {
   "cell_type": "markdown",
   "id": "a6673661-39f6-4e46-a444-7da6079f068e",
   "metadata": {
    "extensions": {
     "jupyter_dashboards": {
      "activeView": "grid_default",
      "views": {
       "grid_default": {
        "col": null,
        "height": 2,
        "hidden": true,
        "locked": true,
        "row": null,
        "width": 2
       }
      }
     }
    }
   },
   "source": [
    "TEMPO"
   ]
  },
  {
   "cell_type": "code",
   "execution_count": 24,
   "id": "dc14667a-3bf8-4deb-aff7-621842cc4506",
   "metadata": {
    "extensions": {
     "jupyter_dashboards": {
      "activeView": "grid_default",
      "views": {
       "grid_default": {
        "col": null,
        "height": 2,
        "hidden": true,
        "locked": true,
        "row": null,
        "width": 2
       }
      }
     }
    }
   },
   "outputs": [],
   "source": [
    "from os import getenv\n",
    "import glue_jupyter as gj\n",
    "from glue_map.data import RemoteGeoData_ArcGISImageServer, Data\n",
    "from glue_map.map.state import MapViewerState\n",
    
    "from ipyleaflet import Map, Marker, LayersControl, TileLayer, WidgetControl\n",
    "from tempods.components.subset_control_widget import SubsetControlWidget\n",
    "\n",
    "from glue.config import colormaps\n",
    "from datetime import date, datetime, timezone, timedelta\n",
    "from ipywidgets import SelectionSlider, Layout, Label, VBox, Dropdown, DatePicker, HTML, AppLayout\n",
    "import pandas as pd\n",
    "import numpy as np\n",
    "from IPython.display import display, Javascript\n",
    "\n",
    "from echo import delay_callback, ignore_callback\n",
    "import matplotlib as mpl\n"
   ]
  },
  {
   "cell_type": "code",
   "execution_count": 25,
   "id": "2a50c24e-5b9f-4676-8f67-dcb289314d5b",
   "metadata": {},
   "outputs": [],
   "source": [
    "title = HTML(\"<h1><font color='#FFCC33'>TEMPO Data Story Prototype</font></h1>\")"
   ]
  },
  {
   "cell_type": "code",
   "execution_count": 26,
   "id": "1217bce6-190b-4b81-8ac9-2880e9493357",
   "metadata": {
    "extensions": {
     "jupyter_dashboards": {
      "activeView": "grid_default",
      "views": {
       "grid_default": {
        "col": null,
        "height": 2,
        "hidden": true,
        "locked": true,
        "row": null,
        "width": 2
       }
      }
     }
    }
   },
   "outputs": [],
   "source": [
    "mapapp = gj.jglue()\n",
    "tempo_data = RemoteGeoData_ArcGISImageServer(\"https://gis.earthdata.nasa.gov/image/rest/services/C2930763263-LARC_CLOUD/\",\n",
    "                                            name='TEMPO')\n",
    "power_data = mapapp.load_data(\"Power_Plants.csv\")\n",
    "_ = mapapp.add_data(tempo_data)\n",
    "\n",
    "# Our remote dataset does not have real components representing latitude and longitude. We link to the only components\n",
    "# it does have so that we can display this on the same viewer without trigger and IncompatibleAttribute error\n",
    "mapapp.add_link(mapapp.data_collection[\"Power_Plants\"], 'Longitude',  mapapp.data_collection[\"TEMPO\"], 'Pixel Axis 0')\n",
    "mapapp.add_link(mapapp.data_collection[\"Power_Plants\"], 'Latitude', mapapp.data_collection[\"TEMPO\"], 'TEMPO_NO2_L3_V03_HOURLY_TROPOSPHERIC_VERTICAL_COLUMN_BETA')\n",
    "\n",
    "big = (power_data['Install_MW'] > 100)\n",
    "med = (power_data['Install_MW'] > 10) & (power_data['Install_MW'] <= 100)\n",
    "small = (power_data['Install_MW'] <= 10)\n",
    "_ = power_data.add_component(big*9 + med*4 + small*1, label='Size_binned')\n"
   ]
  },
  {
   "cell_type": "code",
   "execution_count": 27,
   "id": "e8e8cea5-3113-4dba-b065-24b2d3c97179",
   "metadata": {},
   "outputs": [],
   "source": [
    "url=\"https://tiles.stadiamaps.com/tiles/stamen_toner_lines/{z}/{x}/{y}{r}.png\"\n",
    "api_key = getenv(\"STADIA_API_KEY\")\n",
    "if api_key is not None:\n",
    "    url += f\"?api_key={api_key}\"\n",
    "viewer_state = MapViewerState(basemap=TileLayer(url=url))\n",
    "mapviewer = mapapp.new_data_viewer('map', data=tempo_data, state=viewer_state, show=False)\n",
    "powerplant_widget = SubsetControlWidget(power_data, mapviewer)\n",
    "_ = mapviewer.add_data(data=power_data)"
   ]
  },
  {
   "cell_type": "code",
   "execution_count": 28,
   "id": "d1b07037-d20e-435d-9843-6719b466e335",
   "metadata": {
    "extensions": {
     "jupyter_dashboards": {
      "activeView": "grid_default",
      "views": {
       "grid_default": {
        "col": null,
        "height": 2,
        "hidden": true,
        "locked": true,
        "row": null,
        "width": 2
       }
      }
     }
    }
   },
   "outputs": [],
   "source": [
    "mapviewer.figure_widget.layout = {\"width\": \"900px\", \"height\": \"500px\"}"
   ]
  },
  {
   "cell_type": "code",
   "execution_count": 29,
   "id": "4e8418c9-33e9-463f-9a8a-780575f513eb",
   "metadata": {
    "extensions": {
     "jupyter_dashboards": {
      "activeView": "grid_default",
      "views": {
       "grid_default": {
        "col": 0,
        "height": 9,
        "hidden": false,
        "locked": true,
        "row": 18,
        "width": 6
       }
      }
     }
    }
   },
   "outputs": [],
   "source": [
    "timeviewer = mapapp.new_data_viewer('timeseries',data=tempo_data, show=False)"
   ]
  },
  {
   "cell_type": "code",
   "execution_count": 30,
   "id": "4a003b98-812f-49f1-b62e-787031b794a3",
   "metadata": {
    "extensions": {
     "jupyter_dashboards": {
      "activeView": "grid_default",
      "views": {
       "grid_default": {
        "col": null,
        "height": 2,
        "hidden": true,
        "locked": true,
        "row": null,
        "width": 2
       }
      }
     }
    }
   },
   "outputs": [],
   "source": [
    "timeviewer.figure.axes[1].label_offset = \"-50\"\n",
    "timeviewer.figure.axes[1].tick_format = \".0f\"\n",
    "timeviewer.figure.axes[1].label = \"Amount of NO2 (10^14 molecules/cm^2)\"\n",
    "\n",
    "timeviewer.figure.axes[0].label_offset = \"40\"\n",
    "timeviewer.figure.axes[0].label = \"Time (UTC)\""
   ]
  },
  {
   "cell_type": "code",
   "execution_count": 31,
   "id": "48e7c2d4-f9f8-4faf-b929-3e347b27ffc4",
   "metadata": {
    "extensions": {
     "jupyter_dashboards": {
      "activeView": "grid_default",
      "views": {
       "grid_default": {
        "col": 6,
        "height": 3,
        "hidden": false,
        "locked": true,
        "row": 2,
        "width": 2
       }
      }
     }
    }
   },
   "outputs": [],
   "source": [
    "def convert_from_milliseconds(milliseconds_since_epoch):\n",
    "    \"\"\"Converts milliseconds since epoch to a date-time string in 'YYYY-MM-DDTHH:MM:SSZ' format.\"\"\"\n",
    "    dt = datetime.fromtimestamp((milliseconds_since_epoch)/ 1000, tz=timezone(offset=timedelta(hours=0), name=\"UTC\"))\n",
    "    date_time_str = dt.strftime('%H:%M')\n",
    "    return date_time_str\n",
    "\n",
    "time_values = tempo_data.get_time_steps(timeviewer.state.t_date)\n",
    "time_strings = [convert_from_milliseconds(t) for t in time_values]  \n",
    "time_options = [(time_strings[i], time_values[i]) for i in range(len(time_values))]\n",
    "\n",
    "slider = SelectionSlider(description='', options=time_options,layout=Layout(width='700px', height='20px'))\n",
    "dt = datetime.fromtimestamp((slider.value)/ 1000, tz=timezone(offset=timedelta(hours=0), name=\"UTC\"))\n",
    "timeviewer.timemark.x = np.array([dt, dt]).astype('datetime64[ms]')\n",
    "\n",
    "date_chooser = DatePicker(description='Pick a Date')\n",
    "date_chooser.value = date(2024, 10, 15)\n",
    "def update_image(change):\n",
    "    mapviewer.layers[0].state.timestep = change.new\n",
    "    dt = datetime.fromtimestamp((change.new)/ 1000, tz=timezone(offset=timedelta(hours=0), name=\"UTC\"))\n",
    "    timeviewer.timemark.x = np.array([dt, dt]).astype('datetime64[ms]')\n",
    "\n",
    "def update_date(change):\n",
    "    time_values = tempo_data.get_time_steps(change.new.isoformat())\n",
    "    time_strings = [convert_from_milliseconds(t) for t in time_values]  \n",
    "    time_options = [(time_strings[i], time_values[i]) for i in range(len(time_values))]\n",
    "    slider.options = time_options\n",
    "    timeviewer.state.t_date = change.new.isoformat()\n",
    "    \n",
    "date_chooser.observe(update_date, 'value')\n",
    "\n",
    "slider.observe(update_image, 'value')\n",
    "control = WidgetControl(widget=slider, position='bottomleft')\n",
    "_ = mapviewer.map.add(control)\n",
    "\n",
    "# Something like this should allow us to set a min/max set of dates on the picker so the\n",
    "# user does not choose a date outside of the TEMPO mission dates. But this is not working.\n",
    "#date_chooser.add_class(\"start-date\")\n",
    "\n",
    "#script = Javascript(\"\\\n",
    "#                const query = '.start-date > input:first-of-type'; \\\n",
    "#                document.querySelector(query).setAttribute('min', '2023-08-01'); \\\n",
    "#                document.querySelector(query).setAttribute('max', '2024-10-28'); \\\n",
    "#        \")"
   ]
  },
  {
   "cell_type": "code",
   "execution_count": 32,
   "id": "d62f6373-8d27-4cf4-aacb-b625110fc2ef",
   "metadata": {
    "extensions": {
     "jupyter_dashboards": {
      "activeView": "grid_default",
      "views": {
       "grid_default": {
        "col": null,
        "height": 2,
        "hidden": true,
        "locked": true,
        "row": null,
        "width": 2
       }
      }
     }
    }
   },
   "outputs": [
    {
     "data": {
      "application/vnd.jupyter.widget-view+json": {
       "model_id": "02c0db26c1074ce1a74bc39f6742d951",
       "version_major": 2,
       "version_minor": 0
      },
      "text/plain": [
       "AppLayout(children=(HTML(value=\"<h1><font color='#FFCC33'>TEMPO Data Story Prototype</font></h1>\", layout=Layo…"
      ]
     },
     "execution_count": 32,
     "metadata": {},
     "output_type": "execute_result"
    }
   ],
   "source": [
    "AppLayout(header=title,\n",
    "          left_sidebar=mapviewer.layout,\n",
    "          center=timeviewer.figure_widget,\n",
    "          right_sidebar=powerplant_widget,\n",
    "          footer=date_chooser,\n",
    "          pane_widths=[7, 3, 1],\n",
    "          pane_heights=[1, '700px', '60px'])"
   ]
  },
  {
   "cell_type": "code",
   "execution_count": null,
   "id": "fd4cc448-545c-4a5d-a9c0-3d016b497013",
   "metadata": {},
   "outputs": [],
   "source": []
  }
 ],
 "metadata": {
  "extensions": {
   "jupyter_dashboards": {
    "activeView": "grid_default",
    "version": 1,
    "views": {
     "grid_default": {
      "cellMargin": 8,
      "defaultCellHeight": 40,
      "maxColumns": 12,
      "name": "grid",
      "type": "grid"
     }
    }
   }
  },
  "kernelspec": {
   "display_name": "Python 3 (ipykernel)",
   "language": "python",
   "name": "python3"
  },
  "language_info": {
   "codemirror_mode": {
    "name": "ipython",
    "version": 3
   },
   "file_extension": ".py",
   "mimetype": "text/x-python",
   "name": "python",
   "nbconvert_exporter": "python",
   "pygments_lexer": "ipython3",
   "version": "3.10.15"
  }
 },
 "nbformat": 4,
 "nbformat_minor": 5
}
